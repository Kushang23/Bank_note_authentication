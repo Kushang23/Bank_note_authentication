{
 "cells": [
  {
   "cell_type": "markdown",
   "metadata": {},
   "source": [
    "<b> Data Preperation </b>"
   ]
  },
  {
   "cell_type": "code",
   "execution_count": 1,
   "metadata": {
    "id": "YbNPF9GeNMvr"
   },
   "outputs": [],
   "source": [
    "import numpy as np\n",
    "import pandas as pd\n",
    "import time\n",
    "from datetime import datetime as dt\n",
    "from sklearn import metrics\n",
    "import matplotlib.pyplot as plt\n",
    "from sklearn.metrics import confusion_matrix, accuracy_score"
   ]
  },
  {
   "cell_type": "code",
   "execution_count": 2,
   "metadata": {
    "id": "jj78MyiCNkY2"
   },
   "outputs": [],
   "source": [
    "df = pd.read_csv('bank_note.txt',delimiter=',',header=None)"
   ]
  },
  {
   "cell_type": "code",
   "execution_count": 3,
   "metadata": {
    "colab": {
     "base_uri": "https://localhost:8080/",
     "height": 411
    },
    "id": "JqTgsJewNuxt",
    "outputId": "af7d2098-b645-4a3a-c3eb-7d525495fabb"
   },
   "outputs": [
    {
     "data": {
      "text/plain": [
       "(1372, 5)"
      ]
     },
     "execution_count": 3,
     "metadata": {},
     "output_type": "execute_result"
    }
   ],
   "source": [
    "df.shape"
   ]
  },
  {
   "cell_type": "code",
   "execution_count": 4,
   "metadata": {},
   "outputs": [
    {
     "data": {
      "text/html": [
       "<div>\n",
       "<style scoped>\n",
       "    .dataframe tbody tr th:only-of-type {\n",
       "        vertical-align: middle;\n",
       "    }\n",
       "\n",
       "    .dataframe tbody tr th {\n",
       "        vertical-align: top;\n",
       "    }\n",
       "\n",
       "    .dataframe thead th {\n",
       "        text-align: right;\n",
       "    }\n",
       "</style>\n",
       "<table border=\"1\" class=\"dataframe\">\n",
       "  <thead>\n",
       "    <tr style=\"text-align: right;\">\n",
       "      <th></th>\n",
       "      <th>0</th>\n",
       "      <th>1</th>\n",
       "      <th>2</th>\n",
       "      <th>3</th>\n",
       "      <th>4</th>\n",
       "    </tr>\n",
       "  </thead>\n",
       "  <tbody>\n",
       "    <tr>\n",
       "      <th>0</th>\n",
       "      <td>3.62160</td>\n",
       "      <td>8.66610</td>\n",
       "      <td>-2.8073</td>\n",
       "      <td>-0.44699</td>\n",
       "      <td>0</td>\n",
       "    </tr>\n",
       "    <tr>\n",
       "      <th>1</th>\n",
       "      <td>4.54590</td>\n",
       "      <td>8.16740</td>\n",
       "      <td>-2.4586</td>\n",
       "      <td>-1.46210</td>\n",
       "      <td>0</td>\n",
       "    </tr>\n",
       "    <tr>\n",
       "      <th>2</th>\n",
       "      <td>3.86600</td>\n",
       "      <td>-2.63830</td>\n",
       "      <td>1.9242</td>\n",
       "      <td>0.10645</td>\n",
       "      <td>0</td>\n",
       "    </tr>\n",
       "    <tr>\n",
       "      <th>3</th>\n",
       "      <td>3.45660</td>\n",
       "      <td>9.52280</td>\n",
       "      <td>-4.0112</td>\n",
       "      <td>-3.59440</td>\n",
       "      <td>0</td>\n",
       "    </tr>\n",
       "    <tr>\n",
       "      <th>4</th>\n",
       "      <td>0.32924</td>\n",
       "      <td>-4.45520</td>\n",
       "      <td>4.5718</td>\n",
       "      <td>-0.98880</td>\n",
       "      <td>0</td>\n",
       "    </tr>\n",
       "    <tr>\n",
       "      <th>...</th>\n",
       "      <td>...</td>\n",
       "      <td>...</td>\n",
       "      <td>...</td>\n",
       "      <td>...</td>\n",
       "      <td>...</td>\n",
       "    </tr>\n",
       "    <tr>\n",
       "      <th>1367</th>\n",
       "      <td>0.40614</td>\n",
       "      <td>1.34920</td>\n",
       "      <td>-1.4501</td>\n",
       "      <td>-0.55949</td>\n",
       "      <td>1</td>\n",
       "    </tr>\n",
       "    <tr>\n",
       "      <th>1368</th>\n",
       "      <td>-1.38870</td>\n",
       "      <td>-4.87730</td>\n",
       "      <td>6.4774</td>\n",
       "      <td>0.34179</td>\n",
       "      <td>1</td>\n",
       "    </tr>\n",
       "    <tr>\n",
       "      <th>1369</th>\n",
       "      <td>-3.75030</td>\n",
       "      <td>-13.45860</td>\n",
       "      <td>17.5932</td>\n",
       "      <td>-2.77710</td>\n",
       "      <td>1</td>\n",
       "    </tr>\n",
       "    <tr>\n",
       "      <th>1370</th>\n",
       "      <td>-3.56370</td>\n",
       "      <td>-8.38270</td>\n",
       "      <td>12.3930</td>\n",
       "      <td>-1.28230</td>\n",
       "      <td>1</td>\n",
       "    </tr>\n",
       "    <tr>\n",
       "      <th>1371</th>\n",
       "      <td>-2.54190</td>\n",
       "      <td>-0.65804</td>\n",
       "      <td>2.6842</td>\n",
       "      <td>1.19520</td>\n",
       "      <td>1</td>\n",
       "    </tr>\n",
       "  </tbody>\n",
       "</table>\n",
       "<p>1372 rows × 5 columns</p>\n",
       "</div>"
      ],
      "text/plain": [
       "            0         1        2        3  4\n",
       "0     3.62160   8.66610  -2.8073 -0.44699  0\n",
       "1     4.54590   8.16740  -2.4586 -1.46210  0\n",
       "2     3.86600  -2.63830   1.9242  0.10645  0\n",
       "3     3.45660   9.52280  -4.0112 -3.59440  0\n",
       "4     0.32924  -4.45520   4.5718 -0.98880  0\n",
       "...       ...       ...      ...      ... ..\n",
       "1367  0.40614   1.34920  -1.4501 -0.55949  1\n",
       "1368 -1.38870  -4.87730   6.4774  0.34179  1\n",
       "1369 -3.75030 -13.45860  17.5932 -2.77710  1\n",
       "1370 -3.56370  -8.38270  12.3930 -1.28230  1\n",
       "1371 -2.54190  -0.65804   2.6842  1.19520  1\n",
       "\n",
       "[1372 rows x 5 columns]"
      ]
     },
     "execution_count": 4,
     "metadata": {},
     "output_type": "execute_result"
    }
   ],
   "source": [
    "df"
   ]
  },
  {
   "cell_type": "code",
   "execution_count": 5,
   "metadata": {
    "id": "d826tfrLN15-"
   },
   "outputs": [],
   "source": [
    "X = df.iloc[:,:-1]\n",
    "Y = df.iloc[:,-1]"
   ]
  },
  {
   "cell_type": "code",
   "execution_count": 6,
   "metadata": {},
   "outputs": [
    {
     "data": {
      "text/plain": [
       "(1372, 4)"
      ]
     },
     "execution_count": 6,
     "metadata": {},
     "output_type": "execute_result"
    }
   ],
   "source": [
    "X.shape"
   ]
  },
  {
   "cell_type": "code",
   "execution_count": 7,
   "metadata": {},
   "outputs": [
    {
     "data": {
      "text/plain": [
       "(1372,)"
      ]
     },
     "execution_count": 7,
     "metadata": {},
     "output_type": "execute_result"
    }
   ],
   "source": [
    "Y.shape"
   ]
  },
  {
   "cell_type": "code",
   "execution_count": 8,
   "metadata": {
    "id": "b3R3I8TwP3rn"
   },
   "outputs": [],
   "source": [
    "from sklearn.model_selection import train_test_split\n",
    "X_train, X_test, y_train, y_test = train_test_split(X, Y, test_size = 0.25)"
   ]
  },
  {
   "cell_type": "code",
   "execution_count": 9,
   "metadata": {},
   "outputs": [
    {
     "data": {
      "text/plain": [
       "(1029, 4)"
      ]
     },
     "execution_count": 9,
     "metadata": {},
     "output_type": "execute_result"
    }
   ],
   "source": [
    "X_train.shape"
   ]
  },
  {
   "cell_type": "code",
   "execution_count": 10,
   "metadata": {},
   "outputs": [
    {
     "data": {
      "text/plain": [
       "(1029,)"
      ]
     },
     "execution_count": 10,
     "metadata": {},
     "output_type": "execute_result"
    }
   ],
   "source": [
    "y_train.shape"
   ]
  },
  {
   "cell_type": "code",
   "execution_count": 11,
   "metadata": {},
   "outputs": [
    {
     "data": {
      "text/plain": [
       "(343, 4)"
      ]
     },
     "execution_count": 11,
     "metadata": {},
     "output_type": "execute_result"
    }
   ],
   "source": [
    "X_test.shape"
   ]
  },
  {
   "cell_type": "code",
   "execution_count": 12,
   "metadata": {
    "id": "utrPLNoRQb41"
   },
   "outputs": [],
   "source": [
    "from sklearn.preprocessing import StandardScaler\n",
    "sc = StandardScaler()\n",
    "X_train = sc.fit_transform(X_train)\n",
    "X_test = sc.transform(X_test)"
   ]
  },
  {
   "cell_type": "code",
   "execution_count": 13,
   "metadata": {},
   "outputs": [
    {
     "data": {
      "text/plain": [
       "1.0"
      ]
     },
     "execution_count": 13,
     "metadata": {},
     "output_type": "execute_result"
    }
   ],
   "source": [
    "X_train[:, 0].std()"
   ]
  },
  {
   "cell_type": "markdown",
   "metadata": {
    "id": "mU8krJTNYH7L"
   },
   "source": [
    "<b> Adaboost </b> "
   ]
  },
  {
   "cell_type": "code",
   "execution_count": 14,
   "metadata": {},
   "outputs": [
    {
     "name": "stdout",
     "output_type": "stream",
     "text": [
      "Time Take for finding the optimal n_estimators:  111.98297572135925\n"
     ]
    }
   ],
   "source": [
    "from sklearn.model_selection import GridSearchCV\n",
    "from sklearn.ensemble import AdaBoostClassifier\n",
    "#Create a new Ada boost classifier\n",
    "ada_cv = AdaBoostClassifier()\n",
    "param_grid = {\"n_estimators\": np.arange(50, 150)}\n",
    "#use gridsearch to test all values for n_estimators\n",
    "ada_gscv = GridSearchCV(ada_cv, param_grid, cv=5)\n",
    "#fit model to data\n",
    "start_ada_cv = time.time()\n",
    "ada_gscv.fit(X_train, y_train)\n",
    "stop_ada_cv = time.time()\n",
    "print(\"Time Take for finding the optimal n_estimators: \", stop_ada_cv - start_ada_cv)"
   ]
  },
  {
   "cell_type": "code",
   "execution_count": 15,
   "metadata": {},
   "outputs": [
    {
     "name": "stdout",
     "output_type": "stream",
     "text": [
      "Best Paramater:  {'n_estimators': 107}\n",
      "Best Score:  0.9980535164574947\n",
      "Best estimator AdaBoostClassifier(n_estimators=107)\n"
     ]
    }
   ],
   "source": [
    "print(\"Best Paramater: \", ada_gscv.best_params_)\n",
    "print(\"Best Score: \", ada_gscv.best_score_)\n",
    "print(\"Best estimator\", ada_gscv.best_estimator_)"
   ]
  },
  {
   "cell_type": "code",
   "execution_count": 16,
   "metadata": {
    "colab": {
     "base_uri": "https://localhost:8080/"
    },
    "id": "zQGsiF9oY72d",
    "outputId": "0f81051b-963c-4e95-e20a-ceff433975a9"
   },
   "outputs": [
    {
     "name": "stdout",
     "output_type": "stream",
     "text": [
      "Time Taken for training:  0.29620933532714844\n"
     ]
    }
   ],
   "source": [
    "from sklearn.ensemble import AdaBoostClassifier\n",
    "start_ada = time.time()\n",
    "classifier_ada = AdaBoostClassifier(n_estimators=138, random_state=0)\n",
    "classifier_ada.fit(X_train, y_train)\n",
    "stop_ada = time.time()\n",
    "print(\"Time Taken for training: \", stop_ada - start_ada)"
   ]
  },
  {
   "cell_type": "code",
   "execution_count": 17,
   "metadata": {
    "colab": {
     "base_uri": "https://localhost:8080/"
    },
    "id": "ivdvUZP74X-8",
    "outputId": "d9331cb6-b885-4385-d428-0f94b4be037b"
   },
   "outputs": [
    {
     "name": "stdout",
     "output_type": "stream",
     "text": [
      "Time Taken for test:  0.03687620162963867\n",
      "Confusion Matrix: \n",
      " [[184   0]\n",
      " [  1 158]]\n",
      "Accuracy:  0.9970845481049563\n",
      "True Negative:  184 \n",
      "False Positive:  0 \n",
      "False Negative:  1 \n",
      "True Positive:  158\n"
     ]
    }
   ],
   "source": [
    "start_ada_test= time.time()\n",
    "y_pred_ada = classifier_ada.predict(X_test)\n",
    "stop_ada_test = time.time()\n",
    "print(\"Time Taken for test: \", stop_ada_test - start_ada_test)\n",
    "cm_ada = confusion_matrix(y_test, y_pred_ada)\n",
    "tn, fp, fn, tp = cm_ada.ravel()\n",
    "print(\"Confusion Matrix: \\n\", cm_ada)\n",
    "print(\"Accuracy: \", accuracy_score(y_test, y_pred_ada))\n",
    "print(\"True Negative: \", tn, \"\\nFalse Positive: \", fp, \"\\nFalse Negative: \", fn, \"\\nTrue Positive: \", tp)"
   ]
  },
  {
   "cell_type": "code",
   "execution_count": 18,
   "metadata": {
    "colab": {
     "base_uri": "https://localhost:8080/",
     "height": 278
    },
    "id": "WJzNUNoR4nnz",
    "outputId": "4968ab85-39a9-4b81-c152-c9b1305d8c5c"
   },
   "outputs": [
    {
     "data": {
      "image/png": "[encoded data removed]",
      "text/plain": [
       "<Figure size 432x288 with 1 Axes>"
      ]
     },
     "metadata": {
      "needs_background": "light"
     },
     "output_type": "display_data"
    }
   ],
   "source": [
    "y_pred_proba_ada = classifier_ada.predict_proba(X_test)[::,1]\n",
    "fpr_ada, tpr_ada, _ = metrics.roc_curve(y_test,  y_pred_proba_ada)\n",
    "\n",
    "#create ROC curve\n",
    "plt.plot(fpr_ada,tpr_ada)\n",
    "plt.ylabel('True Positive Rate')\n",
    "plt.xlabel('False Positive Rate')\n",
    "plt.show()"
   ]
  },
  {
   "cell_type": "markdown",
   "metadata": {},
   "source": [
    "<b> Naïve Bayes </b>"
   ]
  },
  {
   "cell_type": "code",
   "execution_count": 19,
   "metadata": {},
   "outputs": [
    {
     "name": "stdout",
     "output_type": "stream",
     "text": [
      "Time Taken for training:  0.002027750015258789\n"
     ]
    }
   ],
   "source": [
    "from sklearn.naive_bayes import GaussianNB\n",
    "start_naive= time.time()\n",
    "classifier_naive = GaussianNB()\n",
    "classifier_naive.fit(X_train, y_train)\n",
    "stop_naive = time.time()\n",
    "print(\"Time Taken for training: \", stop_naive - start_naive)"
   ]
  },
  {
   "cell_type": "code",
   "execution_count": 20,
   "metadata": {},
   "outputs": [
    {
     "name": "stdout",
     "output_type": "stream",
     "text": [
      "Time Taken for testing:  0.0009989738464355469\n",
      "Confusion Matrix: \n",
      " [[170  14]\n",
      " [ 39 120]]\n",
      "Accuracy:  0.8454810495626822\n",
      "True Negative:  170 \n",
      "False Positive:  14 \n",
      "False Negative:  39 \n",
      "True Positive:  120\n"
     ]
    }
   ],
   "source": [
    "start_naive_test= time.time()\n",
    "y_pred_naive = classifier_naive.predict(X_test)\n",
    "stop_naive_test = time.time()\n",
    "print(\"Time Taken for testing: \", stop_naive_test - start_naive_test)\n",
    "cm_naive = confusion_matrix(y_test, y_pred_naive)\n",
    "tn, fp, fn, tp = cm_naive.ravel()\n",
    "print(\"Confusion Matrix: \\n\", cm_naive)\n",
    "print(\"Accuracy: \", accuracy_score(y_test, y_pred_naive))\n",
    "print(\"True Negative: \", tn, \"\\nFalse Positive: \", fp, \"\\nFalse Negative: \", fn, \"\\nTrue Positive: \", tp)"
   ]
  },
  {
   "cell_type": "code",
   "execution_count": 21,
   "metadata": {},
   "outputs": [
    {
     "data": {
      "image/png": "[encoded data removed]",
      "text/plain": [
       "<Figure size 432x288 with 1 Axes>"
      ]
     },
     "metadata": {
      "needs_background": "light"
     },
     "output_type": "display_data"
    }
   ],
   "source": [
    "y_pred_proba_naive = classifier_naive.predict_proba(X_test)[::,1]\n",
    "fpr_naive, tpr_naive, _ = metrics.roc_curve(y_test,  y_pred_proba_naive)\n",
    "\n",
    "#create ROC curve\n",
    "plt.plot(fpr_naive,tpr_naive)\n",
    "plt.ylabel('True Positive Rate')\n",
    "plt.xlabel('False Positive Rate')\n",
    "plt.show()"
   ]
  },
  {
   "cell_type": "markdown",
   "metadata": {},
   "source": [
    "<b> K Nearest Neighbors </b>"
   ]
  },
  {
   "cell_type": "code",
   "execution_count": 22,
   "metadata": {},
   "outputs": [
    {
     "name": "stdout",
     "output_type": "stream",
     "text": [
      "Time Take for finding the optimal n_estimators:  0.6714661121368408\n"
     ]
    }
   ],
   "source": [
    "from sklearn.model_selection import GridSearchCV\n",
    "from sklearn.neighbors import KNeighborsClassifier\n",
    "#create a new knn model\n",
    "knn_cv = KNeighborsClassifier()\n",
    "#create a dictionary of all values we want to test for n_neighbors\n",
    "param_grid = {\"n_neighbors\": np.arange(1, 10)}\n",
    "#use gridsearch to test all values for n_neighbors\n",
    "knn_gscv = GridSearchCV(knn_cv, param_grid, cv=5)\n",
    "#fit model to data\n",
    "start_knn_cv = time.time()\n",
    "knn_gscv.fit(X_train, y_train)\n",
    "stop_knn_cv = time.time()\n",
    "print(\"Time Take for finding the optimal n_estimators: \", stop_knn_cv - start_knn_cv)"
   ]
  },
  {
   "cell_type": "code",
   "execution_count": 23,
   "metadata": {},
   "outputs": [
    {
     "name": "stdout",
     "output_type": "stream",
     "text": [
      "Best Paramater:  {'n_neighbors': 2}\n",
      "Best Score:  0.9990291262135923\n",
      "Best estimator KNeighborsClassifier(n_neighbors=2)\n"
     ]
    }
   ],
   "source": [
    "print(\"Best Paramater: \", knn_gscv.best_params_)\n",
    "print(\"Best Score: \", knn_gscv.best_score_)\n",
    "print(\"Best estimator\", knn_gscv.best_estimator_)"
   ]
  },
  {
   "cell_type": "code",
   "execution_count": 24,
   "metadata": {},
   "outputs": [
    {
     "name": "stdout",
     "output_type": "stream",
     "text": [
      "Time Taken for training:  0.0019898414611816406\n"
     ]
    }
   ],
   "source": [
    "from sklearn.neighbors import KNeighborsClassifier\n",
    "start_knn = time.time()\n",
    "classifier_knn = KNeighborsClassifier(n_neighbors=2)\n",
    "classifier_knn.fit(X_train, y_train)\n",
    "stop_knn = time.time()\n",
    "print(\"Time Taken for training: \", stop_knn - start_knn)"
   ]
  },
  {
   "cell_type": "code",
   "execution_count": 25,
   "metadata": {},
   "outputs": [
    {
     "name": "stdout",
     "output_type": "stream",
     "text": [
      "Time Taken for testing:  0.012962102890014648\n",
      "Confusion Matrix: \n",
      " [[183   1]\n",
      " [  0 159]]\n",
      "Accuracy:  0.9970845481049563\n",
      "True Negative:  183 \n",
      "False Positive:  1 \n",
      "False Negative:  0 \n",
      "True Positive:  159\n"
     ]
    }
   ],
   "source": [
    "start_knn_test= time.time()\n",
    "y_pred_knn = classifier_knn.predict(X_test)\n",
    "stop_knn_test = time.time()\n",
    "print(\"Time Taken for testing: \", stop_knn_test - start_knn_test)\n",
    "cm_knn = confusion_matrix(y_test, y_pred_knn)\n",
    "tn, fp, fn, tp = cm_knn.ravel()\n",
    "print(\"Confusion Matrix: \\n\", cm_knn)\n",
    "print(\"Accuracy: \", accuracy_score(y_test, y_pred_knn))\n",
    "print(\"True Negative: \", tn, \"\\nFalse Positive: \", fp, \"\\nFalse Negative: \", fn, \"\\nTrue Positive: \", tp)"
   ]
  },
  {
   "cell_type": "code",
   "execution_count": 26,
   "metadata": {},
   "outputs": [
    {
     "data": {
      "image/png": "[encoded data removed]",
      "text/plain": [
       "<Figure size 432x288 with 1 Axes>"
      ]
     },
     "metadata": {
      "needs_background": "light"
     },
     "output_type": "display_data"
    }
   ],
   "source": [
    "y_pred_proba_knn = classifier_knn.predict_proba(X_test)[::,1]\n",
    "fpr_knn, tpr_knn, _ = metrics.roc_curve(y_test,  y_pred_proba_knn)\n",
    "\n",
    "#create ROC curve\n",
    "plt.plot(fpr_knn,tpr_knn)\n",
    "plt.ylabel('True Positive Rate')\n",
    "plt.xlabel('False Positive Rate')\n",
    "plt.show()"
   ]
  },
  {
   "cell_type": "code",
   "execution_count": null,
   "metadata": {},
   "outputs": [],
   "source": []
  }
 ],
 "metadata": {
  "colab": {
   "name": "Untitled14.ipynb",
   "provenance": []
  },
  "kernelspec": {
   "display_name": "Python 3",
   "language": "python",
   "name": "python3"
  },
  "language_info": {
   "codemirror_mode": {
    "name": "ipython",
    "version": 3
   },
   "file_extension": ".py",
   "mimetype": "text/x-python",
   "name": "python",
   "nbconvert_exporter": "python",
   "pygments_lexer": "ipython3",
   "version": "3.8.3"
  }
 },
 "nbformat": 4,
 "nbformat_minor": 1
}
